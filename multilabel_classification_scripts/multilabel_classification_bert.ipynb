{
 "metadata": {
  "kernelspec": {
   "display_name": "Python 3",
   "language": "python",
   "name": "python3"
  },
  "language_info": {
   "codemirror_mode": {
    "name": "ipython",
    "version": 3
   },
   "file_extension": ".py",
   "mimetype": "text/x-python",
   "name": "python",
   "nbconvert_exporter": "python",
   "pygments_lexer": "ipython3",
   "version": "3.7.3"
  },
  "name": ""
 },
 "nbformat": 3,
 "nbformat_minor": 0,
 "worksheets": [
  {
   "cells": [
    {
     "cell_type": "markdown",
     "metadata": {},
     "source": [
      "Before running this notebook, you need to pull:\n",
      "\n",
      "https://github.com/google-research/bert\n",
      "\n",
      "And add bert_preprocessing.py and multilabel_bert.py script from to the pulled directory (put it in the same directory with modeling.py, optimization.py, tokenization.py):\n",
      "\n",
      "https://github.com/Andoree/tweets_classification/tree/master/multilabel_classification_scripts"
     ]
    },
    {
     "cell_type": "code",
     "collapsed": false,
     "input": [
      "import codecs\n",
      "from datetime import datetime\n",
      "import os\n",
      "\n",
      "import pandas as pd\n",
      "import tensorflow as tf\n",
      "import numpy as np\n",
      "import modeling\n",
      "import optimization\n",
      "import tokenization\n",
      "from bert_preprocessing import create_examples, file_based_convert_examples_to_features, \\\n",
      "    convert_examples_to_features\n",
      "from multilabel_bert import file_based_input_fn_builder, create_model, model_fn_builder, \\\n",
      "input_fn_builder, create_output, predict, get_estimator, train_and_evaluate"
     ],
     "language": "python",
     "metadata": {},
     "outputs": [],
     "prompt_number": 1
    },
    {
     "cell_type": "code",
     "collapsed": false,
     "input": [
      "# Setting CUDA device\n",
      "%env CUDA_VISIBLE_DEVICES = 2"
     ],
     "language": "python",
     "metadata": {},
     "outputs": [
      {
       "output_type": "stream",
       "stream": "stdout",
       "text": [
        "env: CUDA_VISIBLE_DEVICES=2\n"
       ]
      }
     ],
     "prompt_number": 2
    },
    {
     "cell_type": "heading",
     "level": 3,
     "metadata": {},
     "source": [
      "Parameters"
     ]
    },
    {
     "cell_type": "code",
     "collapsed": false,
     "input": [
      "corpus_dir  = r\"otzovik_csvs/fold_0/\"\n",
      "bert_vocab_path = r\"/home/tlenusik/DATA/pretrained_models/multilingual_russian_reviews_finetuned/vocab.txt\"\n",
      "# Change checkpoint if you want to use multilanguage Bert model that is finetuned on another dataset.\n",
      "bert_init_chkpnt_path = r\"/home/tlenusik/DATA/pretrained_models/multilingual_russian_reviews_finetuned/bert_model.ckpt\"\n",
      "bert_config_path =  r\"/home/tlenusik/DATA/pretrained_models/multilingual_russian_reviews_finetuned/bert_config.json\"\n",
      "batch_size = 32\n",
      "num_train_epochs = 5\n",
      "warmup_proportion = 0.1\n",
      "max_seq_length = 128\n",
      "learning_rate = 2e-5\n",
      "save_summary_steps = 500\n",
      "output_dir = r\"results/\"\n",
      "if not os.path.exists(output_dir):\n",
      "    os.makedirs(output_dir)\n",
      "predicted_proba_filename = \"predicted_labels.csv\"\n",
      "\n",
      "# Number of classes\n",
      "NUM_LABELS = 5\n",
      "# The column with this name must exist in test data\n",
      "text_column_name = 'sentences'"
     ],
     "language": "python",
     "metadata": {},
     "outputs": [],
     "prompt_number": 3
    },
    {
     "cell_type": "markdown",
     "metadata": {},
     "source": [
      "### Training and evaluation\n",
      "Validation loss and accuracy for all classes is saved in \"output_dir/eval_results.txt\" (path parameters are initialized at \"Parameters\" section). \n",
      "\n",
      "The first column of csv file must contain document's text. The next NUM_LABELS columns are binary columns of class correspondence.  test_df should have the same structure."
     ]
    },
    {
     "cell_type": "code",
     "collapsed": false,
     "input": [
      "# Change paths if needed\n",
      "train_df = pd.read_csv(os.path.join(corpus_dir, \"train.csv\"), encoding=\"utf-8\")\n",
      "dev_df = pd.read_csv(os.path.join(corpus_dir, \"dev.csv\"), encoding=\"utf-8\")\n",
      "\n",
      "train_examples = create_examples(train_df)\n",
      "eval_examples = create_examples(dev_df)\n",
      "# Model is saved and evaluated every epoch. It might be too frequent, change it.\n",
      "num_train_steps = int(len(train_examples) / batch_size * num_train_epochs)\n",
      "num_warmup_steps = int(num_train_steps * warmup_proportion)\n",
      "num_steps_in_epoch = int(len(train_examples) / batch_size * num_train_epochs) // num_train_epochs\n",
      "save_checkpoints_steps = num_steps_in_epoch"
     ],
     "language": "python",
     "metadata": {},
     "outputs": [],
     "prompt_number": 4
    },
    {
     "cell_type": "code",
     "collapsed": false,
     "input": [
      "# Creating tokenizer\n",
      "tokenizer = tokenization.FullTokenizer(\n",
      "    vocab_file=bert_vocab_path, do_lower_case=True)\n",
      "# Definition of estimator's config\n",
      "run_config = tf.estimator.RunConfig(\n",
      "    model_dir=output_dir,\n",
      "    save_summary_steps=save_summary_steps,\n",
      "    keep_checkpoint_max=1,\n",
      "    save_checkpoints_steps=save_checkpoints_steps)\n",
      "# Loading config of pretrained Bert model\n",
      "bert_config = modeling.BertConfig.from_json_file(bert_config_path)\n",
      "\n",
      "model_fn = model_fn_builder(\n",
      "    bert_config=bert_config,\n",
      "    num_labels=NUM_LABELS ,\n",
      "    init_checkpoint=bert_init_chkpnt_path,\n",
      "    learning_rate=learning_rate,\n",
      "    num_train_steps=num_train_steps,\n",
      "    num_warmup_steps=num_warmup_steps,\n",
      "    use_tpu=False,\n",
      "    use_one_hot_embeddings=False)\n",
      "\n",
      "estimator = get_estimator(model_fn=model_fn, run_config=run_config, batch_size=batch_size)"
     ],
     "language": "python",
     "metadata": {},
     "outputs": [
      {
       "output_type": "stream",
       "stream": "stdout",
       "text": [
        "INFO:tensorflow:Using config: {'_model_dir': 'results/', '_tf_random_seed': None, '_save_summary_steps': 500, '_save_checkpoints_steps': 50, '_save_checkpoints_secs': None, '_session_config': allow_soft_placement: true\n",
        "graph_options {\n",
        "  rewrite_options {\n",
        "    meta_optimizer_iterations: ONE\n",
        "  }\n",
        "}\n",
        ", '_keep_checkpoint_max': 1, '_keep_checkpoint_every_n_hours': 10000, '_log_step_count_steps': 100, '_train_distribute': None, '_device_fn': None, '_protocol': None, '_eval_distribute': None, '_experimental_distribute': None, '_service': None, '_cluster_spec': <tensorflow.python.training.server_lib.ClusterSpec object at 0x7ff0737afb70>, '_task_type': 'worker', '_task_id': 0, '_global_id_in_cluster': 0, '_master': '', '_evaluation_master': '', '_is_chief': True, '_num_ps_replicas': 0, '_num_worker_replicas': 1}\n"
       ]
      }
     ],
     "prompt_number": 5
    },
    {
     "cell_type": "code",
     "collapsed": false,
     "input": [
      "tf.logging.set_verbosity(tf.logging.INFO)\n",
      "\n",
      "eval_steps = None\n",
      "\n",
      "train_and_evaluate(train_examples, eval_examples, max_seq_length, estimator, tokenizer, batch_size, eval_steps,\n",
      "                   num_train_steps, output_dir, num_labels=NUM_LABELS)"
     ],
     "language": "python",
     "metadata": {},
     "outputs": [
      {
       "output_type": "stream",
       "stream": "stdout",
       "text": [
        "INFO:tensorflow:***** Running training *****\n"
       ]
      },
      {
       "output_type": "stream",
       "stream": "stdout",
       "text": [
        "INFO:tensorflow:  Num examples = 1627\n"
       ]
      },
      {
       "output_type": "stream",
       "stream": "stdout",
       "text": [
        "INFO:tensorflow:  Batch size = 32\n"
       ]
      },
      {
       "output_type": "stream",
       "stream": "stdout",
       "text": [
        "INFO:tensorflow:  Num steps = 254\n"
       ]
      },
      {
       "output_type": "stream",
       "stream": "stdout",
       "text": [
        "Beginning Training!\n",
        "INFO:tensorflow:Not using Distribute Coordinator.\n"
       ]
      },
      {
       "output_type": "stream",
       "stream": "stdout",
       "text": [
        "INFO:tensorflow:Running training and evaluation locally (non-distributed).\n"
       ]
      },
      {
       "output_type": "stream",
       "stream": "stdout",
       "text": [
        "INFO:tensorflow:Start train and evaluate loop. The evaluate will happen after every checkpoint. Checkpoint frequency is determined based on RunConfig arguments: save_checkpoints_steps 50 or save_checkpoints_secs None.\n"
       ]
      },
      {
       "output_type": "stream",
       "stream": "stderr",
       "text": [
        "/usr/local/lib/python3.6/dist-packages/dask/dataframe/utils.py:15: FutureWarning: pandas.util.testing is deprecated. Use the functions in the public API at pandas.testing instead.\n",
        "  import pandas.util.testing as tm\n"
       ]
      },
      {
       "output_type": "stream",
       "stream": "stdout",
       "text": [
        "WARNING:tensorflow:From /home/tlenusik/tweets_classification_smm4h/bert/multilabel_bert.py:57: map_and_batch (from tensorflow.contrib.data.python.ops.batching) is deprecated and will be removed in a future version.\n",
        "Instructions for updating:\n",
        "Use `tf.data.experimental.map_and_batch(...)`.\n"
       ]
      },
      {
       "output_type": "stream",
       "stream": "stdout",
       "text": [
        "INFO:tensorflow:Calling model_fn.\n"
       ]
      },
      {
       "output_type": "stream",
       "stream": "stdout",
       "text": [
        "INFO:tensorflow:num_labels:5;logits:Tensor(\"loss/BiasAdd:0\", shape=(32, 5), dtype=float32);labels:Tensor(\"loss/Cast:0\", shape=(32, 5), dtype=float32)\n"
       ]
      },
      {
       "output_type": "stream",
       "stream": "stdout",
       "text": [
        "INFO:tensorflow:**** Trainable Variables ****\n"
       ]
      },
      {
       "output_type": "stream",
       "stream": "stdout",
       "text": [
        "INFO:tensorflow:Done calling model_fn.\n"
       ]
      },
      {
       "output_type": "stream",
       "stream": "stdout",
       "text": [
        "INFO:tensorflow:Create CheckpointSaverHook.\n"
       ]
      },
      {
       "output_type": "stream",
       "stream": "stdout",
       "text": [
        "INFO:tensorflow:Graph was finalized.\n"
       ]
      },
      {
       "output_type": "stream",
       "stream": "stdout",
       "text": [
        "INFO:tensorflow:Running local_init_op.\n"
       ]
      },
      {
       "output_type": "stream",
       "stream": "stdout",
       "text": [
        "INFO:tensorflow:Done running local_init_op.\n"
       ]
      },
      {
       "output_type": "stream",
       "stream": "stdout",
       "text": [
        "INFO:tensorflow:Saving checkpoints for 0 into results/model.ckpt.\n"
       ]
      },
      {
       "output_type": "stream",
       "stream": "stdout",
       "text": [
        "INFO:tensorflow:loss = 0.708068, step = 0\n"
       ]
      },
      {
       "output_type": "stream",
       "stream": "stdout",
       "text": [
        "INFO:tensorflow:accuracy = 0.50625, loss = 0.708068\n"
       ]
      },
      {
       "output_type": "stream",
       "stream": "stdout",
       "text": [
        "INFO:tensorflow:accuracy = 0.634375, loss = 0.6288923 (12.683 sec)\n"
       ]
      },
      {
       "output_type": "stream",
       "stream": "stdout",
       "text": [
        "INFO:tensorflow:accuracy = 0.69166666, loss = 0.46009713 (6.418 sec)\n"
       ]
      },
      {
       "output_type": "stream",
       "stream": "stdout",
       "text": [
        "INFO:tensorflow:accuracy = 0.7328125, loss = 0.38893634 (6.417 sec)\n"
       ]
      },
      {
       "output_type": "stream",
       "stream": "stdout",
       "text": [
        "INFO:tensorflow:accuracy = 0.755, loss = 0.34250712 (6.424 sec)\n"
       ]
      },
      {
       "output_type": "stream",
       "stream": "stdout",
       "text": [
        "INFO:tensorflow:Saving checkpoints for 50 into results/model.ckpt.\n"
       ]
      },
      {
       "output_type": "stream",
       "stream": "stdout",
       "text": [
        "INFO:tensorflow:Calling model_fn.\n"
       ]
      },
      {
       "output_type": "stream",
       "stream": "stdout",
       "text": [
        "INFO:tensorflow:num_labels:5;logits:Tensor(\"loss/BiasAdd:0\", shape=(?, 5), dtype=float32);labels:Tensor(\"loss/Cast:0\", shape=(?, 5), dtype=float32)\n"
       ]
      },
      {
       "output_type": "stream",
       "stream": "stdout",
       "text": [
        "INFO:tensorflow:**** Trainable Variables ****\n"
       ]
      },
      {
       "output_type": "stream",
       "stream": "stdout",
       "text": [
        "INFO:tensorflow:Done calling model_fn.\n"
       ]
      },
      {
       "output_type": "stream",
       "stream": "stdout",
       "text": [
        "INFO:tensorflow:Starting evaluation at 2020-05-20-09:58:35\n"
       ]
      },
      {
       "output_type": "stream",
       "stream": "stdout",
       "text": [
        "INFO:tensorflow:Graph was finalized.\n"
       ]
      },
      {
       "output_type": "stream",
       "stream": "stdout",
       "text": [
        "INFO:tensorflow:Restoring parameters from results/model.ckpt-50\n"
       ]
      },
      {
       "output_type": "stream",
       "stream": "stdout",
       "text": [
        "INFO:tensorflow:Running local_init_op.\n"
       ]
      },
      {
       "output_type": "stream",
       "stream": "stdout",
       "text": [
        "INFO:tensorflow:Done running local_init_op.\n"
       ]
      },
      {
       "output_type": "stream",
       "stream": "stdout",
       "text": [
        "INFO:tensorflow:accuracy = 0.88125, loss = 0.33662817\n"
       ]
      },
      {
       "output_type": "stream",
       "stream": "stdout",
       "text": [
        "INFO:tensorflow:accuracy = 0.878125, loss = 0.35237736 (0.798 sec)\n"
       ]
      },
      {
       "output_type": "stream",
       "stream": "stdout",
       "text": [
        "INFO:tensorflow:accuracy = 0.88958335, loss = 0.26892504 (0.355 sec)\n"
       ]
      },
      {
       "output_type": "stream",
       "stream": "stdout",
       "text": [
        "INFO:tensorflow:Finished evaluation at 2020-05-20-09:58:47\n"
       ]
      },
      {
       "output_type": "stream",
       "stream": "stdout",
       "text": [
        "INFO:tensorflow:Saving dict for global step 50: 0 = 0.86555773, 1 = 0.8775213, 2 = 0.94094306, 3 = 0.8608031, 4 = 0.53180474, eval_loss = 0.32471034, global_step = 50, loss = 0.32118848\n"
       ]
      },
      {
       "output_type": "stream",
       "stream": "stdout",
       "text": [
        "INFO:tensorflow:Saving 'checkpoint_path' summary for global step 50: results/model.ckpt-50\n"
       ]
      },
      {
       "output_type": "stream",
       "stream": "stdout",
       "text": [
        "INFO:tensorflow:accuracy = 0.7729167, loss = 0.3428471 (41.969 sec)\n"
       ]
      },
      {
       "output_type": "stream",
       "stream": "stdout",
       "text": [
        "INFO:tensorflow:accuracy = 0.7910714, loss = 0.29648992 (6.425 sec)\n"
       ]
      },
      {
       "output_type": "stream",
       "stream": "stdout",
       "text": [
        "INFO:tensorflow:accuracy = 0.80546874, loss = 0.23559125 (6.423 sec)\n"
       ]
      },
      {
       "output_type": "stream",
       "stream": "stdout",
       "text": [
        "INFO:tensorflow:accuracy = 0.8215278, loss = 0.19039464 (6.428 sec)\n"
       ]
      },
      {
       "output_type": "stream",
       "stream": "stdout",
       "text": [
        "INFO:tensorflow:accuracy = 0.83375, loss = 0.23965296 (6.419 sec)\n"
       ]
      },
      {
       "output_type": "stream",
       "stream": "stdout",
       "text": [
        "INFO:tensorflow:Saving checkpoints for 100 into results/model.ckpt.\n"
       ]
      },
      {
       "output_type": "stream",
       "stream": "stdout",
       "text": [
        "INFO:tensorflow:Calling model_fn.\n"
       ]
      },
      {
       "output_type": "stream",
       "stream": "stdout",
       "text": [
        "INFO:tensorflow:num_labels:5;logits:Tensor(\"loss/BiasAdd:0\", shape=(?, 5), dtype=float32);labels:Tensor(\"loss/Cast:0\", shape=(?, 5), dtype=float32)\n"
       ]
      },
      {
       "output_type": "stream",
       "stream": "stdout",
       "text": [
        "INFO:tensorflow:**** Trainable Variables ****\n"
       ]
      },
      {
       "output_type": "stream",
       "stream": "stdout",
       "text": [
        "INFO:tensorflow:Done calling model_fn.\n"
       ]
      },
      {
       "output_type": "stream",
       "stream": "stdout",
       "text": [
        "INFO:tensorflow:Starting evaluation at 2020-05-20-09:59:42\n"
       ]
      },
      {
       "output_type": "stream",
       "stream": "stdout",
       "text": [
        "INFO:tensorflow:Graph was finalized.\n"
       ]
      },
      {
       "output_type": "stream",
       "stream": "stdout",
       "text": [
        "INFO:tensorflow:Restoring parameters from results/model.ckpt-100\n"
       ]
      },
      {
       "output_type": "stream",
       "stream": "stdout",
       "text": [
        "INFO:tensorflow:Running local_init_op.\n"
       ]
      },
      {
       "output_type": "stream",
       "stream": "stdout",
       "text": [
        "INFO:tensorflow:Done running local_init_op.\n"
       ]
      },
      {
       "output_type": "stream",
       "stream": "stdout",
       "text": [
        "INFO:tensorflow:accuracy = 0.925, loss = 0.24759658\n"
       ]
      },
      {
       "output_type": "stream",
       "stream": "stdout",
       "text": [
        "INFO:tensorflow:accuracy = 0.903125, loss = 0.27941686 (0.805 sec)\n"
       ]
      },
      {
       "output_type": "stream",
       "stream": "stdout",
       "text": [
        "INFO:tensorflow:accuracy = 0.9166667, loss = 0.19401003 (0.360 sec)\n"
       ]
      },
      {
       "output_type": "stream",
       "stream": "stdout",
       "text": [
        "INFO:tensorflow:Finished evaluation at 2020-05-20-09:59:53\n"
       ]
      },
      {
       "output_type": "stream",
       "stream": "stdout",
       "text": [
        "INFO:tensorflow:Saving dict for global step 100: 0 = 0.8954011, 1 = 0.9563429, 2 = 0.97070503, 3 = 0.9309559, 4 = 0.7588757, eval_loss = 0.24640775, global_step = 100, loss = 0.24365777\n"
       ]
      },
      {
       "output_type": "stream",
       "stream": "stdout",
       "text": [
        "INFO:tensorflow:Saving 'checkpoint_path' summary for global step 100: results/model.ckpt-100\n"
       ]
      },
      {
       "output_type": "stream",
       "stream": "stdout",
       "text": [
        "INFO:tensorflow:global_step/sec: 0.70076\n"
       ]
      },
      {
       "output_type": "stream",
       "stream": "stdout",
       "text": [
        "INFO:tensorflow:loss = 0.18232992, step = 100 (142.703 sec)\n"
       ]
      },
      {
       "output_type": "stream",
       "stream": "stdout",
       "text": [
        "INFO:tensorflow:accuracy = 0.84375, loss = 0.18232992 (43.096 sec)\n"
       ]
      },
      {
       "output_type": "stream",
       "stream": "stdout",
       "text": [
        "INFO:tensorflow:accuracy = 0.85, loss = 0.21832147 (6.426 sec)\n"
       ]
      },
      {
       "output_type": "stream",
       "stream": "stdout",
       "text": [
        "INFO:tensorflow:accuracy = 0.85721153, loss = 0.17404939 (6.421 sec)\n"
       ]
      },
      {
       "output_type": "stream",
       "stream": "stdout",
       "text": [
        "INFO:tensorflow:accuracy = 0.865625, loss = 0.12416522 (6.420 sec)\n"
       ]
      },
      {
       "output_type": "stream",
       "stream": "stdout",
       "text": [
        "INFO:tensorflow:accuracy = 0.87125, loss = 0.13816555 (6.427 sec)\n"
       ]
      },
      {
       "output_type": "stream",
       "stream": "stdout",
       "text": [
        "INFO:tensorflow:Saving checkpoints for 150 into results/model.ckpt.\n"
       ]
      },
      {
       "output_type": "stream",
       "stream": "stdout",
       "text": [
        "INFO:tensorflow:Calling model_fn.\n"
       ]
      },
      {
       "output_type": "stream",
       "stream": "stdout",
       "text": [
        "INFO:tensorflow:num_labels:5;logits:Tensor(\"loss/BiasAdd:0\", shape=(?, 5), dtype=float32);labels:Tensor(\"loss/Cast:0\", shape=(?, 5), dtype=float32)\n"
       ]
      },
      {
       "output_type": "stream",
       "stream": "stdout",
       "text": [
        "INFO:tensorflow:**** Trainable Variables ****\n"
       ]
      },
      {
       "output_type": "stream",
       "stream": "stdout",
       "text": [
        "INFO:tensorflow:Done calling model_fn.\n"
       ]
      },
      {
       "output_type": "stream",
       "stream": "stdout",
       "text": [
        "INFO:tensorflow:Starting evaluation at 2020-05-20-10:00:52\n"
       ]
      },
      {
       "output_type": "stream",
       "stream": "stdout",
       "text": [
        "INFO:tensorflow:Graph was finalized.\n"
       ]
      },
      {
       "output_type": "stream",
       "stream": "stdout",
       "text": [
        "INFO:tensorflow:Restoring parameters from results/model.ckpt-150\n"
       ]
      },
      {
       "output_type": "stream",
       "stream": "stdout",
       "text": [
        "INFO:tensorflow:Running local_init_op.\n"
       ]
      },
      {
       "output_type": "stream",
       "stream": "stdout",
       "text": [
        "INFO:tensorflow:Done running local_init_op.\n"
       ]
      },
      {
       "output_type": "stream",
       "stream": "stdout",
       "text": [
        "INFO:tensorflow:accuracy = 0.9, loss = 0.25207216\n"
       ]
      },
      {
       "output_type": "stream",
       "stream": "stdout",
       "text": [
        "INFO:tensorflow:accuracy = 0.9, loss = 0.22996417 (0.800 sec)\n"
       ]
      },
      {
       "output_type": "stream",
       "stream": "stdout",
       "text": [
        "INFO:tensorflow:accuracy = 0.9145833, loss = 0.19454698 (0.357 sec)\n"
       ]
      },
      {
       "output_type": "stream",
       "stream": "stdout",
       "text": [
        "INFO:tensorflow:Finished evaluation at 2020-05-20-10:01:03\n"
       ]
      },
      {
       "output_type": "stream",
       "stream": "stdout",
       "text": [
        "INFO:tensorflow:Saving dict for global step 150: 0 = 0.8917808, 1 = 0.95952755, 2 = 0.9716386, 3 = 0.94567627, 4 = 0.770217, eval_loss = 0.22834142, global_step = 150, loss = 0.22632074\n"
       ]
      },
      {
       "output_type": "stream",
       "stream": "stdout",
       "text": [
        "INFO:tensorflow:Saving 'checkpoint_path' summary for global step 150: results/model.ckpt-150\n"
       ]
      },
      {
       "output_type": "stream",
       "stream": "stdout",
       "text": [
        "INFO:tensorflow:accuracy = 0.87773436, loss = 0.11551215 (40.669 sec)\n"
       ]
      },
      {
       "output_type": "stream",
       "stream": "stdout",
       "text": [
        "INFO:tensorflow:accuracy = 0.8834559, loss = 0.109989285 (6.425 sec)\n"
       ]
      },
      {
       "output_type": "stream",
       "stream": "stdout",
       "text": [
        "INFO:tensorflow:accuracy = 0.88958335, loss = 0.0909661 (6.418 sec)\n"
       ]
      },
      {
       "output_type": "stream",
       "stream": "stdout",
       "text": [
        "INFO:tensorflow:accuracy = 0.8930921, loss = 0.12843691 (6.417 sec)\n"
       ]
      },
      {
       "output_type": "stream",
       "stream": "stdout",
       "text": [
        "INFO:tensorflow:accuracy = 0.898125, loss = 0.07692287 (6.414 sec)\n"
       ]
      },
      {
       "output_type": "stream",
       "stream": "stdout",
       "text": [
        "INFO:tensorflow:Saving checkpoints for 200 into results/model.ckpt.\n"
       ]
      },
      {
       "output_type": "stream",
       "stream": "stdout",
       "text": [
        "INFO:tensorflow:Calling model_fn.\n"
       ]
      },
      {
       "output_type": "stream",
       "stream": "stdout",
       "text": [
        "INFO:tensorflow:num_labels:5;logits:Tensor(\"loss/BiasAdd:0\", shape=(?, 5), dtype=float32);labels:Tensor(\"loss/Cast:0\", shape=(?, 5), dtype=float32)\n"
       ]
      },
      {
       "output_type": "stream",
       "stream": "stdout",
       "text": [
        "INFO:tensorflow:**** Trainable Variables ****\n"
       ]
      },
      {
       "output_type": "stream",
       "stream": "stdout",
       "text": [
        "INFO:tensorflow:Done calling model_fn.\n"
       ]
      },
      {
       "output_type": "stream",
       "stream": "stdout",
       "text": [
        "INFO:tensorflow:Starting evaluation at 2020-05-20-10:01:58\n"
       ]
      },
      {
       "output_type": "stream",
       "stream": "stdout",
       "text": [
        "INFO:tensorflow:Graph was finalized.\n"
       ]
      },
      {
       "output_type": "stream",
       "stream": "stdout",
       "text": [
        "INFO:tensorflow:Restoring parameters from results/model.ckpt-200\n"
       ]
      },
      {
       "output_type": "stream",
       "stream": "stdout",
       "text": [
        "INFO:tensorflow:Running local_init_op.\n"
       ]
      },
      {
       "output_type": "stream",
       "stream": "stdout",
       "text": [
        "INFO:tensorflow:Done running local_init_op.\n"
       ]
      },
      {
       "output_type": "stream",
       "stream": "stdout",
       "text": [
        "INFO:tensorflow:accuracy = 0.9, loss = 0.26589963\n"
       ]
      },
      {
       "output_type": "stream",
       "stream": "stdout",
       "text": [
        "INFO:tensorflow:accuracy = 0.903125, loss = 0.23998685 (0.813 sec)\n"
       ]
      },
      {
       "output_type": "stream",
       "stream": "stdout",
       "text": [
        "INFO:tensorflow:accuracy = 0.9166667, loss = 0.1840631 (0.356 sec)\n"
       ]
      },
      {
       "output_type": "stream",
       "stream": "stdout",
       "text": [
        "INFO:tensorflow:Finished evaluation at 2020-05-20-10:02:10\n"
       ]
      },
      {
       "output_type": "stream",
       "stream": "stdout",
       "text": [
        "INFO:tensorflow:Saving dict for global step 200: 0 = 0.8882583, 1 = 0.9674893, 2 = 0.9717554, 3 = 0.95048034, 4 = 0.7941321, eval_loss = 0.2311871, global_step = 200, loss = 0.22926454\n"
       ]
      },
      {
       "output_type": "stream",
       "stream": "stdout",
       "text": [
        "INFO:tensorflow:Saving 'checkpoint_path' summary for global step 200: results/model.ckpt-200\n"
       ]
      },
      {
       "output_type": "stream",
       "stream": "stdout",
       "text": [
        "INFO:tensorflow:global_step/sec: 0.751153\n"
       ]
      },
      {
       "output_type": "stream",
       "stream": "stdout",
       "text": [
        "INFO:tensorflow:loss = 0.12164911, step = 200 (133.129 sec)\n"
       ]
      },
      {
       "output_type": "stream",
       "stream": "stdout",
       "text": [
        "INFO:tensorflow:accuracy = 0.90178573, loss = 0.12164911 (41.093 sec)\n"
       ]
      },
      {
       "output_type": "stream",
       "stream": "stdout",
       "text": [
        "INFO:tensorflow:accuracy = 0.90482956, loss = 0.11005149 (6.422 sec)\n"
       ]
      },
      {
       "output_type": "stream",
       "stream": "stdout",
       "text": [
        "INFO:tensorflow:accuracy = 0.9084239, loss = 0.08553587 (6.421 sec)\n"
       ]
      },
      {
       "output_type": "stream",
       "stream": "stdout",
       "text": [
        "INFO:tensorflow:accuracy = 0.9117187, loss = 0.08432217 (6.421 sec)\n"
       ]
      },
      {
       "output_type": "stream",
       "stream": "stdout",
       "text": [
        "INFO:tensorflow:accuracy = 0.915, loss = 0.062978424 (6.411 sec)\n"
       ]
      },
      {
       "output_type": "stream",
       "stream": "stdout",
       "text": [
        "INFO:tensorflow:Saving checkpoints for 250 into results/model.ckpt.\n"
       ]
      },
      {
       "output_type": "stream",
       "stream": "stdout",
       "text": [
        "INFO:tensorflow:Calling model_fn.\n"
       ]
      },
      {
       "output_type": "stream",
       "stream": "stdout",
       "text": [
        "INFO:tensorflow:num_labels:5;logits:Tensor(\"loss/BiasAdd:0\", shape=(?, 5), dtype=float32);labels:Tensor(\"loss/Cast:0\", shape=(?, 5), dtype=float32)\n"
       ]
      },
      {
       "output_type": "stream",
       "stream": "stdout",
       "text": [
        "INFO:tensorflow:**** Trainable Variables ****\n"
       ]
      },
      {
       "output_type": "stream",
       "stream": "stdout",
       "text": [
        "INFO:tensorflow:Done calling model_fn.\n"
       ]
      },
      {
       "output_type": "stream",
       "stream": "stdout",
       "text": [
        "INFO:tensorflow:Starting evaluation at 2020-05-20-10:03:03\n"
       ]
      },
      {
       "output_type": "stream",
       "stream": "stdout",
       "text": [
        "INFO:tensorflow:Graph was finalized.\n"
       ]
      },
      {
       "output_type": "stream",
       "stream": "stdout",
       "text": [
        "INFO:tensorflow:Restoring parameters from results/model.ckpt-250\n"
       ]
      },
      {
       "output_type": "stream",
       "stream": "stdout",
       "text": [
        "INFO:tensorflow:Running local_init_op.\n"
       ]
      },
      {
       "output_type": "stream",
       "stream": "stdout",
       "text": [
        "INFO:tensorflow:Done running local_init_op.\n"
       ]
      },
      {
       "output_type": "stream",
       "stream": "stdout",
       "text": [
        "INFO:tensorflow:accuracy = 0.875, loss = 0.31207407\n"
       ]
      },
      {
       "output_type": "stream",
       "stream": "stdout",
       "text": [
        "INFO:tensorflow:accuracy = 0.8875, loss = 0.2882236 (0.837 sec)\n"
       ]
      },
      {
       "output_type": "stream",
       "stream": "stdout",
       "text": [
        "INFO:tensorflow:accuracy = 0.91041666, loss = 0.18868461 (0.356 sec)\n"
       ]
      },
      {
       "output_type": "stream",
       "stream": "stdout",
       "text": [
        "INFO:tensorflow:Finished evaluation at 2020-05-20-10:03:15\n"
       ]
      },
      {
       "output_type": "stream",
       "stream": "stdout",
       "text": [
        "INFO:tensorflow:Saving dict for global step 250: 0 = 0.88307256, 1 = 0.97346073, 2 = 0.96405226, 3 = 0.93896276, 4 = 0.7837772, eval_loss = 0.24552704, global_step = 250, loss = 0.24278927\n"
       ]
      },
      {
       "output_type": "stream",
       "stream": "stdout",
       "text": [
        "INFO:tensorflow:Saving 'checkpoint_path' summary for global step 250: results/model.ckpt-250\n"
       ]
      },
      {
       "output_type": "stream",
       "stream": "stdout",
       "text": [
        "INFO:tensorflow:accuracy = 0.9168269, loss = 0.13785231 (39.988 sec)\n"
       ]
      },
      {
       "output_type": "stream",
       "stream": "stdout",
       "text": [
        "INFO:tensorflow:Saving checkpoints for 254 into results/model.ckpt.\n"
       ]
      },
      {
       "output_type": "stream",
       "stream": "stdout",
       "text": [
        "INFO:tensorflow:Calling model_fn.\n"
       ]
      },
      {
       "output_type": "stream",
       "stream": "stdout",
       "text": [
        "INFO:tensorflow:num_labels:5;logits:Tensor(\"loss/BiasAdd:0\", shape=(?, 5), dtype=float32);labels:Tensor(\"loss/Cast:0\", shape=(?, 5), dtype=float32)\n"
       ]
      },
      {
       "output_type": "stream",
       "stream": "stdout",
       "text": [
        "INFO:tensorflow:**** Trainable Variables ****\n"
       ]
      },
      {
       "output_type": "stream",
       "stream": "stdout",
       "text": [
        "INFO:tensorflow:Done calling model_fn.\n"
       ]
      },
      {
       "output_type": "stream",
       "stream": "stdout",
       "text": [
        "INFO:tensorflow:Starting evaluation at 2020-05-20-10:03:38\n"
       ]
      },
      {
       "output_type": "stream",
       "stream": "stdout",
       "text": [
        "INFO:tensorflow:Graph was finalized.\n"
       ]
      },
      {
       "output_type": "stream",
       "stream": "stdout",
       "text": [
        "INFO:tensorflow:Restoring parameters from results/model.ckpt-254\n"
       ]
      },
      {
       "output_type": "stream",
       "stream": "stdout",
       "text": [
        "INFO:tensorflow:Running local_init_op.\n"
       ]
      },
      {
       "output_type": "stream",
       "stream": "stdout",
       "text": [
        "INFO:tensorflow:Done running local_init_op.\n"
       ]
      },
      {
       "output_type": "stream",
       "stream": "stdout",
       "text": [
        "INFO:tensorflow:accuracy = 0.875, loss = 0.31066662\n"
       ]
      },
      {
       "output_type": "stream",
       "stream": "stdout",
       "text": [
        "INFO:tensorflow:accuracy = 0.8875, loss = 0.2870062 (0.790 sec)\n"
       ]
      },
      {
       "output_type": "stream",
       "stream": "stdout",
       "text": [
        "INFO:tensorflow:accuracy = 0.91041666, loss = 0.18821307 (0.356 sec)\n"
       ]
      },
      {
       "output_type": "stream",
       "stream": "stdout",
       "text": [
        "INFO:tensorflow:Finished evaluation at 2020-05-20-10:03:46\n"
       ]
      },
      {
       "output_type": "stream",
       "stream": "stdout",
       "text": [
        "INFO:tensorflow:Saving dict for global step 254: 0 = 0.8831703, 1 = 0.9735935, 2 = 0.96405226, 3 = 0.93927073, 4 = 0.78402376, eval_loss = 0.245017, global_step = 254, loss = 0.24232662\n"
       ]
      },
      {
       "output_type": "stream",
       "stream": "stdout",
       "text": [
        "INFO:tensorflow:Saving 'checkpoint_path' summary for global step 254: results/model.ckpt-254\n"
       ]
      },
      {
       "output_type": "stream",
       "stream": "stdout",
       "text": [
        "INFO:tensorflow:Loss for final step: 0.13681675.\n"
       ]
      },
      {
       "output_type": "stream",
       "stream": "stdout",
       "text": [
        "Training took time  0:07:24.442887\n",
        "INFO:tensorflow:Calling model_fn.\n"
       ]
      },
      {
       "output_type": "stream",
       "stream": "stdout",
       "text": [
        "INFO:tensorflow:num_labels:5;logits:Tensor(\"loss/BiasAdd:0\", shape=(?, 5), dtype=float32);labels:Tensor(\"loss/Cast:0\", shape=(?, 5), dtype=float32)\n"
       ]
      },
      {
       "output_type": "stream",
       "stream": "stdout",
       "text": [
        "INFO:tensorflow:**** Trainable Variables ****\n"
       ]
      },
      {
       "output_type": "stream",
       "stream": "stdout",
       "text": [
        "INFO:tensorflow:Done calling model_fn.\n"
       ]
      },
      {
       "output_type": "stream",
       "stream": "stdout",
       "text": [
        "INFO:tensorflow:Starting evaluation at 2020-05-20-10:03:50\n"
       ]
      },
      {
       "output_type": "stream",
       "stream": "stdout",
       "text": [
        "INFO:tensorflow:Graph was finalized.\n"
       ]
      },
      {
       "output_type": "stream",
       "stream": "stdout",
       "text": [
        "INFO:tensorflow:Restoring parameters from results/model.ckpt-254\n"
       ]
      },
      {
       "output_type": "stream",
       "stream": "stdout",
       "text": [
        "INFO:tensorflow:Running local_init_op.\n"
       ]
      },
      {
       "output_type": "stream",
       "stream": "stdout",
       "text": [
        "INFO:tensorflow:Done running local_init_op.\n"
       ]
      },
      {
       "output_type": "stream",
       "stream": "stdout",
       "text": [
        "INFO:tensorflow:accuracy = 0.875, loss = 0.31066662\n"
       ]
      },
      {
       "output_type": "stream",
       "stream": "stdout",
       "text": [
        "INFO:tensorflow:accuracy = 0.8875, loss = 0.2870062 (0.825 sec)\n"
       ]
      },
      {
       "output_type": "stream",
       "stream": "stdout",
       "text": [
        "INFO:tensorflow:accuracy = 0.91041666, loss = 0.18821307 (0.356 sec)\n"
       ]
      },
      {
       "output_type": "stream",
       "stream": "stdout",
       "text": [
        "INFO:tensorflow:Finished evaluation at 2020-05-20-10:03:54\n"
       ]
      },
      {
       "output_type": "stream",
       "stream": "stdout",
       "text": [
        "INFO:tensorflow:Saving dict for global step 254: 0 = 0.8831703, 1 = 0.9735935, 2 = 0.96405226, 3 = 0.93927073, 4 = 0.78402376, eval_loss = 0.245017, global_step = 254, loss = 0.24232662\n"
       ]
      },
      {
       "output_type": "stream",
       "stream": "stdout",
       "text": [
        "INFO:tensorflow:Saving 'checkpoint_path' summary for global step 254: results/model.ckpt-254\n"
       ]
      },
      {
       "output_type": "stream",
       "stream": "stdout",
       "text": [
        "INFO:tensorflow:***** Eval results *****\n"
       ]
      },
      {
       "output_type": "stream",
       "stream": "stdout",
       "text": [
        "INFO:tensorflow:  0 = 0.8831703\n"
       ]
      },
      {
       "output_type": "stream",
       "stream": "stdout",
       "text": [
        "INFO:tensorflow:  1 = 0.9735935\n"
       ]
      },
      {
       "output_type": "stream",
       "stream": "stdout",
       "text": [
        "INFO:tensorflow:  2 = 0.96405226\n"
       ]
      },
      {
       "output_type": "stream",
       "stream": "stdout",
       "text": [
        "INFO:tensorflow:  3 = 0.93927073\n"
       ]
      },
      {
       "output_type": "stream",
       "stream": "stdout",
       "text": [
        "INFO:tensorflow:  4 = 0.78402376\n"
       ]
      },
      {
       "output_type": "stream",
       "stream": "stdout",
       "text": [
        "INFO:tensorflow:  eval_loss = 0.245017\n"
       ]
      },
      {
       "output_type": "stream",
       "stream": "stdout",
       "text": [
        "INFO:tensorflow:  global_step = 254\n"
       ]
      },
      {
       "output_type": "stream",
       "stream": "stdout",
       "text": [
        "INFO:tensorflow:  loss = 0.24232662\n"
       ]
      }
     ],
     "prompt_number": 6
    },
    {
     "cell_type": "markdown",
     "metadata": {},
     "source": [
      "### Predicting class probabilities\n",
      "The resulting file with test labels is saved at \"output_dir/predicted_proba_filename\" (path parameters are initialized at \"Parameters\" section). "
     ]
    },
    {
     "cell_type": "heading",
     "level": 4,
     "metadata": {},
     "source": [
      "Defining documents to predict labels for manually"
     ]
    },
    {
     "cell_type": "code",
     "collapsed": false,
     "input": [
      "strings = ['This is some string',\n",
      "       'This is another string']\n",
      "test_df = pd.DataFrame(strings, columns =[text_column_name], )"
     ],
     "language": "python",
     "metadata": {},
     "outputs": [],
     "prompt_number": 7
    },
    {
     "cell_type": "heading",
     "level": 4,
     "metadata": {},
     "source": [
      "Loading test set from csv file"
     ]
    },
    {
     "cell_type": "code",
     "collapsed": false,
     "input": [
      "train_examples = None\n",
      "num_train_steps = None\n",
      "num_warmup_steps = None\n",
      "save_checkpoints_steps = 1000\n",
      "\n",
      "# Creating tokenizer\n",
      "tokenizer = tokenization.FullTokenizer(\n",
      "    vocab_file=bert_vocab_path, do_lower_case=True)\n",
      "# Definition of estimator's config\n",
      "run_config = tf.estimator.RunConfig(\n",
      "    model_dir=output_dir,\n",
      "    save_summary_steps=save_summary_steps,\n",
      "    keep_checkpoint_max=1,\n",
      "    save_checkpoints_steps=save_checkpoints_steps)\n",
      "# Loading config of pretrained Bert model\n",
      "bert_config = modeling.BertConfig.from_json_file(bert_config_path)\n",
      "\n",
      "model_fn = model_fn_builder(\n",
      "    bert_config=bert_config,\n",
      "    num_labels=NUM_LABELS ,\n",
      "    init_checkpoint=bert_init_chkpnt_path,\n",
      "    learning_rate=learning_rate,\n",
      "    num_train_steps=num_train_steps,\n",
      "    num_warmup_steps=num_warmup_steps,\n",
      "    use_tpu=False,\n",
      "    use_one_hot_embeddings=False)\n",
      "\n",
      "estimator = get_estimator(model_fn=model_fn, run_config=run_config, batch_size=batch_size)"
     ],
     "language": "python",
     "metadata": {},
     "outputs": [
      {
       "output_type": "stream",
       "stream": "stdout",
       "text": [
        "INFO:tensorflow:Using config: {'_model_dir': 'results/', '_tf_random_seed': None, '_save_summary_steps': 500, '_save_checkpoints_steps': 1000, '_save_checkpoints_secs': None, '_session_config': allow_soft_placement: true\n",
        "graph_options {\n",
        "  rewrite_options {\n",
        "    meta_optimizer_iterations: ONE\n",
        "  }\n",
        "}\n",
        ", '_keep_checkpoint_max': 1, '_keep_checkpoint_every_n_hours': 10000, '_log_step_count_steps': 100, '_train_distribute': None, '_device_fn': None, '_protocol': None, '_eval_distribute': None, '_experimental_distribute': None, '_service': None, '_cluster_spec': <tensorflow.python.training.server_lib.ClusterSpec object at 0x7fef940e8828>, '_task_type': 'worker', '_task_id': 0, '_global_id_in_cluster': 0, '_master': '', '_evaluation_master': '', '_is_chief': True, '_num_ps_replicas': 0, '_num_worker_replicas': 1}\n"
       ]
      }
     ],
     "prompt_number": 8
    },
    {
     "cell_type": "code",
     "collapsed": false,
     "input": [
      "# Change path if needed\n",
      "test_df = pd.read_csv(os.path.join(corpus_dir, \"test.csv\"), encoding=\"utf-8\")"
     ],
     "language": "python",
     "metadata": {},
     "outputs": [],
     "prompt_number": 9
    },
    {
     "cell_type": "code",
     "collapsed": false,
     "input": [
      "output_df = predict(test_df, estimator, tokenizer, max_seq_length, num_labels=NUM_LABELS)\n",
      "\n",
      "resulting_df = test_df[text_column_name]\n",
      "resulting_df = pd.concat([test_df, output_df], axis=1)\n",
      "resulting_df.to_csv(os.path.join(output_dir, predicted_proba_filename), index=False)\n",
      "\n",
      "resulting_df.head()"
     ],
     "language": "python",
     "metadata": {},
     "outputs": [
      {
       "output_type": "stream",
       "stream": "stdout",
       "text": [
        "Beginning Predictions!\n",
        "Prediction took time  0:00:00.000163\n"
       ]
      },
      {
       "output_type": "stream",
       "stream": "stdout",
       "text": [
        "INFO:tensorflow:Calling model_fn.\n"
       ]
      },
      {
       "output_type": "stream",
       "stream": "stdout",
       "text": [
        "INFO:tensorflow:num_labels:5;logits:Tensor(\"loss/BiasAdd:0\", shape=(?, 5), dtype=float32);labels:Tensor(\"loss/Cast:0\", shape=(?, 5), dtype=float32)\n"
       ]
      },
      {
       "output_type": "stream",
       "stream": "stdout",
       "text": [
        "INFO:tensorflow:**** Trainable Variables ****\n"
       ]
      },
      {
       "output_type": "stream",
       "stream": "stdout",
       "text": [
        "mode: infer probabilities: Tensor(\"loss/Sigmoid:0\", shape=(?, 5), dtype=float32)\n",
        "INFO:tensorflow:Done calling model_fn.\n"
       ]
      },
      {
       "output_type": "stream",
       "stream": "stdout",
       "text": [
        "INFO:tensorflow:Graph was finalized.\n"
       ]
      },
      {
       "output_type": "stream",
       "stream": "stdout",
       "text": [
        "INFO:tensorflow:Restoring parameters from results/model.ckpt-254\n"
       ]
      },
      {
       "output_type": "stream",
       "stream": "stdout",
       "text": [
        "INFO:tensorflow:Running local_init_op.\n"
       ]
      },
      {
       "output_type": "stream",
       "stream": "stdout",
       "text": [
        "INFO:tensorflow:Done running local_init_op.\n"
       ]
      },
      {
       "html": [
        "<div>\n",
        "<style scoped>\n",
        "    .dataframe tbody tr th:only-of-type {\n",
        "        vertical-align: middle;\n",
        "    }\n",
        "\n",
        "    .dataframe tbody tr th {\n",
        "        vertical-align: top;\n",
        "    }\n",
        "\n",
        "    .dataframe thead th {\n",
        "        text-align: right;\n",
        "    }\n",
        "</style>\n",
        "<table border=\"1\" class=\"dataframe\">\n",
        "  <thead>\n",
        "    <tr style=\"text-align: right;\">\n",
        "      <th></th>\n",
        "      <th>sentences</th>\n",
        "      <th>EF</th>\n",
        "      <th>INF</th>\n",
        "      <th>ADR</th>\n",
        "      <th>DI</th>\n",
        "      <th>Finding</th>\n",
        "      <th>annotation</th>\n",
        "      <th>review_id</th>\n",
        "      <th>sentence_id</th>\n",
        "      <th>p_label_1</th>\n",
        "      <th>p_label_2</th>\n",
        "      <th>p_label_3</th>\n",
        "      <th>p_label_4</th>\n",
        "      <th>p_label_5</th>\n",
        "    </tr>\n",
        "  </thead>\n",
        "  <tbody>\n",
        "    <tr>\n",
        "      <th>0</th>\n",
        "      <td>\u0421\u0442\u0430\u043b\u0430 \u043d\u0435\u0440\u0432\u043d\u043e\u0439, \u043a\u0430\u043f\u0440\u0438\u0437\u043d\u043e\u0439, \u0447\u0443\u0442\u044c \u0447\u0442\u043e -\u0441\u0440\u0430\u0437\u0443 \u0432\u0438\u0437\u0433...</td>\n",
        "      <td>0</td>\n",
        "      <td>0</td>\n",
        "      <td>0</td>\n",
        "      <td>1</td>\n",
        "      <td>1</td>\n",
        "      <td>DI[3]|Finding[1]</td>\n",
        "      <td>252298</td>\n",
        "      <td>4</td>\n",
        "      <td>0.011385</td>\n",
        "      <td>0.053421</td>\n",
        "      <td>0.099140</td>\n",
        "      <td>0.970543</td>\n",
        "      <td>0.118213</td>\n",
        "    </tr>\n",
        "    <tr>\n",
        "      <th>1</th>\n",
        "      <td>\u041f\u043e\u0441\u043b\u0435 \u043d\u0435\u0434\u0435\u043b\u044c\u043d\u043e\u0433\u043e \u043f\u0440\u0438\u0435\u043c\u0430 \u0434\u043e\u0447\u0443\u0440\u043a\u0430 \u043b\u0435\u0433\u0447\u0435 \u0441\u0442\u0430\u043b\u0430 \u043e\u0441...</td>\n",
        "      <td>1</td>\n",
        "      <td>0</td>\n",
        "      <td>0</td>\n",
        "      <td>0</td>\n",
        "      <td>0</td>\n",
        "      <td>EF[2]</td>\n",
        "      <td>252298</td>\n",
        "      <td>7</td>\n",
        "      <td>0.963942</td>\n",
        "      <td>0.022464</td>\n",
        "      <td>0.035437</td>\n",
        "      <td>0.149202</td>\n",
        "      <td>0.050757</td>\n",
        "    </tr>\n",
        "    <tr>\n",
        "      <th>2</th>\n",
        "      <td>\u041e\u0447\u0435\u043d\u044c \u0440\u0430\u0434\u0443\u0435\u0442 \u0442\u043e, \u0447\u0442\u043e \u0442\u0430\u0431\u043b\u0435\u0442\u043a\u0438 \u043d\u0435 \u0433\u043e\u0440\u044c\u043a\u0438\u0435, \u044f \u0440\u0430...</td>\n",
        "      <td>0</td>\n",
        "      <td>0</td>\n",
        "      <td>0</td>\n",
        "      <td>0</td>\n",
        "      <td>0</td>\n",
        "      <td>NEUTRAL</td>\n",
        "      <td>252298</td>\n",
        "      <td>8</td>\n",
        "      <td>0.040245</td>\n",
        "      <td>0.012103</td>\n",
        "      <td>0.040204</td>\n",
        "      <td>0.015769</td>\n",
        "      <td>0.079861</td>\n",
        "    </tr>\n",
        "    <tr>\n",
        "      <th>3</th>\n",
        "      <td>\u0418 \u0442\u0430\u043a \u0441 \u043f\u043e\u044f\u0432\u043b\u0435\u043d\u0438\u0435 \u0440\u0435\u0431\u0435\u043d\u043a\u0430 \u0432 \u043d\u0430\u0448\u0435\u0439 \u0441\u0435\u043c\u044c\u0435 \u0438 \u0447\u0430\u0441\u0442...</td>\n",
        "      <td>0</td>\n",
        "      <td>0</td>\n",
        "      <td>0</td>\n",
        "      <td>1</td>\n",
        "      <td>0</td>\n",
        "      <td>DI[1]</td>\n",
        "      <td>2457636</td>\n",
        "      <td>2</td>\n",
        "      <td>0.031904</td>\n",
        "      <td>0.049587</td>\n",
        "      <td>0.012279</td>\n",
        "      <td>0.961162</td>\n",
        "      <td>0.036922</td>\n",
        "    </tr>\n",
        "    <tr>\n",
        "      <th>4</th>\n",
        "      <td>\u0411\u043e\u043b\u0435\u0437\u043d\u044c \u043d\u0435\u043c\u043d\u043e\u0433\u043e \u043e\u0442\u0441\u0442\u0443\u043f\u0430\u043b\u0430, \u043d\u043e \u043f\u043e\u0442\u043e\u043c \u0441 \u043d\u043e\u0432\u043e\u0439 \u0441\u0438...</td>\n",
        "      <td>0</td>\n",
        "      <td>1</td>\n",
        "      <td>0</td>\n",
        "      <td>1</td>\n",
        "      <td>0</td>\n",
        "      <td>INF[3]|DI[2]</td>\n",
        "      <td>2457636</td>\n",
        "      <td>5</td>\n",
        "      <td>0.137308</td>\n",
        "      <td>0.944040</td>\n",
        "      <td>0.031668</td>\n",
        "      <td>0.946177</td>\n",
        "      <td>0.098235</td>\n",
        "    </tr>\n",
        "  </tbody>\n",
        "</table>\n",
        "</div>"
       ],
       "output_type": "pyout",
       "prompt_number": 10,
       "text": [
        "                                           sentences  EF  INF  ADR  DI  \\\n",
        "0  \u0421\u0442\u0430\u043b\u0430 \u043d\u0435\u0440\u0432\u043d\u043e\u0439, \u043a\u0430\u043f\u0440\u0438\u0437\u043d\u043e\u0439, \u0447\u0443\u0442\u044c \u0447\u0442\u043e -\u0441\u0440\u0430\u0437\u0443 \u0432\u0438\u0437\u0433...   0    0    0   1   \n",
        "1  \u041f\u043e\u0441\u043b\u0435 \u043d\u0435\u0434\u0435\u043b\u044c\u043d\u043e\u0433\u043e \u043f\u0440\u0438\u0435\u043c\u0430 \u0434\u043e\u0447\u0443\u0440\u043a\u0430 \u043b\u0435\u0433\u0447\u0435 \u0441\u0442\u0430\u043b\u0430 \u043e\u0441...   1    0    0   0   \n",
        "2  \u041e\u0447\u0435\u043d\u044c \u0440\u0430\u0434\u0443\u0435\u0442 \u0442\u043e, \u0447\u0442\u043e \u0442\u0430\u0431\u043b\u0435\u0442\u043a\u0438 \u043d\u0435 \u0433\u043e\u0440\u044c\u043a\u0438\u0435, \u044f \u0440\u0430...   0    0    0   0   \n",
        "3  \u0418 \u0442\u0430\u043a \u0441 \u043f\u043e\u044f\u0432\u043b\u0435\u043d\u0438\u0435 \u0440\u0435\u0431\u0435\u043d\u043a\u0430 \u0432 \u043d\u0430\u0448\u0435\u0439 \u0441\u0435\u043c\u044c\u0435 \u0438 \u0447\u0430\u0441\u0442...   0    0    0   1   \n",
        "4  \u0411\u043e\u043b\u0435\u0437\u043d\u044c \u043d\u0435\u043c\u043d\u043e\u0433\u043e \u043e\u0442\u0441\u0442\u0443\u043f\u0430\u043b\u0430, \u043d\u043e \u043f\u043e\u0442\u043e\u043c \u0441 \u043d\u043e\u0432\u043e\u0439 \u0441\u0438...   0    1    0   1   \n",
        "\n",
        "   Finding        annotation  review_id  sentence_id  p_label_1  p_label_2  \\\n",
        "0        1  DI[3]|Finding[1]     252298            4   0.011385   0.053421   \n",
        "1        0             EF[2]     252298            7   0.963942   0.022464   \n",
        "2        0           NEUTRAL     252298            8   0.040245   0.012103   \n",
        "3        0             DI[1]    2457636            2   0.031904   0.049587   \n",
        "4        0      INF[3]|DI[2]    2457636            5   0.137308   0.944040   \n",
        "\n",
        "   p_label_3  p_label_4  p_label_5  \n",
        "0   0.099140   0.970543   0.118213  \n",
        "1   0.035437   0.149202   0.050757  \n",
        "2   0.040204   0.015769   0.079861  \n",
        "3   0.012279   0.961162   0.036922  \n",
        "4   0.031668   0.946177   0.098235  "
       ]
      }
     ],
     "prompt_number": 10
    }
   ],
   "metadata": {}
  }
 ]
}
