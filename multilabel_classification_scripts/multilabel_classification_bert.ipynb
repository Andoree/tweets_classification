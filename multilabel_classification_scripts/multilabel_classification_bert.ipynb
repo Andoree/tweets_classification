{
 "cells": [
  {
   "cell_type": "markdown",
   "metadata": {},
   "source": [
    "Before running this notebook, you need to pull:\n",
    "\n",
    "https://github.com/google-research/bert\n",
    "\n",
    "And add bert_preprocessing.py and multilabel_bert.py script from to the pulled directory (put it in the same directory with modeling.py , optimization.py, tokenization.py):\n",
    "\n",
    "https://github.com/Andoree/tweets_classification/tree/master/multilabel_classification_scripts"
   ]
  },
  {
   "cell_type": "code",
   "execution_count": null,
   "metadata": {},
   "outputs": [],
   "source": [
    "import codecs\n",
    "from datetime import datetime\n",
    "import os\n",
    "\n",
    "import pandas as pd\n",
    "import tensorflow as tf\n",
    "import numpy as np\n",
    "import modeling\n",
    "import optimization\n",
    "import tokenization\n",
    "from bert_preprocessing import create_examples, file_based_convert_examples_to_features, \\\n",
    "    convert_examples_to_features\n",
    "from multilabel_bert import file_based_input_fn_builder, create_model, model_fn_builder, \\\n",
    "input_fn_builder, create_output, predict, get_estimator, train_and_evaluate"
   ]
  },
  {
   "cell_type": "code",
   "execution_count": null,
   "metadata": {},
   "outputs": [],
   "source": [
    "# Setting CUDA device\n",
    "! export CUDA_VISIBLE_DEVICES = 2"
   ]
  },
  {
   "cell_type": "markdown",
   "metadata": {},
   "source": [
    "### Parameters"
   ]
  },
  {
   "cell_type": "code",
   "execution_count": null,
   "metadata": {},
   "outputs": [],
   "source": [
    "corpus_dir  = r\"otzovik_csvs/fold_0/\"\n",
    "bert_vocab_path = r\"/media/data/datasets/biomed/EMBEDDINGS/BERT/multilingual_russian_reviews_finetuned/vocab.txt\"\n",
    "# Change checkpoint if you want to use multilanguage Bert model that is finetuned on another dataset.\n",
    "bert_init_chkpnt_path = r\"/media/data/datasets/biomed/EMBEDDINGS/BERT/multilingual_russian_reviews_finetuned/bert_model.ckpt\"\n",
    "bert_config_path =  r\"/media/data/datasets/biomed/EMBEDDINGS/BERT/multilingual_russian_reviews_finetuned/bert_config.json\"\n",
    "batch_size = 2\n",
    "num_train_epochs = 1\n",
    "warmup_proportion = 0.1\n",
    "max_seq_length = 12\n",
    "learning_rate = 2e-5\n",
    "save_summary_steps = 500\n",
    "output_dir = r\"results/\"\n",
    "if not os.path.exists(output_dir):\n",
    "    os.makedirs(output_dir)\n",
    "predicted_proba_filename = \"predicted_labels.csv\"\n",
    "\n",
    "num_train_steps = int(len(train_examples) / batch_size * num_train_epochs)\n",
    "num_warmup_steps = int(num_train_steps * warmup_proportion)\n",
    "num_steps_in_epoch = int(len(train_examples) / batch_size * num_train_epochs) // num_train_epochs\n",
    "# Model is saved and evaluated every epoch. It might be too frequent, change it.\n",
    "save_checkpoints_steps = num_steps_in_epoch\n",
    "# Number of classes\n",
    "NUM_LABELS = 5\n",
    "# The column with this name must exist in test data\n",
    "text_column_name = 'text'"
   ]
  },
  {
   "cell_type": "markdown",
   "metadata": {},
   "source": [
    "### Loading model\n",
    "This part is common for both training and prediction of test labels. "
   ]
  },
  {
   "cell_type": "code",
   "execution_count": null,
   "metadata": {},
   "outputs": [],
   "source": [
    "# Creating tokenizer\n",
    "tokenizer = tokenization.FullTokenizer(\n",
    "    vocab_file=bert_vocab_path, do_lower_case=True)\n",
    "# Definition of estimator's config\n",
    "run_config = tf.estimator.RunConfig(\n",
    "    model_dir=output_dir,\n",
    "    save_summary_steps=save_summary_steps,\n",
    "    keep_checkpoint_max=1,\n",
    "    save_checkpoints_steps=save_checkpoints_steps)\n",
    "# Loading config of pretrained Bert model\n",
    "bert_config = modeling.BertConfig.from_json_file(bert_config_path)\n",
    "\n",
    "model_fn = model_fn_builder(\n",
    "    bert_config=bert_config,\n",
    "    num_labels=NUM_LABELS ,\n",
    "    init_checkpoint=bert_init_chkpnt_path,\n",
    "    learning_rate=learning_rate,\n",
    "    num_train_steps=num_train_steps,\n",
    "    num_warmup_steps=num_warmup_steps,\n",
    "    use_tpu=False,\n",
    "    use_one_hot_embeddings=False)\n",
    "\n",
    "estimator = get_estimator(model_fn=model_fn, run_config=run_config, batch_size=batch_size)"
   ]
  },
  {
   "cell_type": "markdown",
   "metadata": {},
   "source": [
    "### Training and evaluation\n",
    "Validation loss and accuracy for all classes is saved in \"output_dir/eval_results.txt\" (path parameters are initialized at \"Parameters\" section). \n",
    "\n",
    "The first column of csv file must contain document's text. The next NUM_LABELS columns are binary columns of class correspondence.  test_df should have the same structure."
   ]
  },
  {
   "cell_type": "code",
   "execution_count": null,
   "metadata": {},
   "outputs": [],
   "source": [
    "# Change paths if needed\n",
    "train_df = pd.read_csv(os.path.join(corpus_dir, \"train.csv\"), encoding=\"utf-8\")\n",
    "dev_df = pd.read_csv(os.path.join(corpus_dir, \"dev.csv\"), encoding=\"utf-8\")\n",
    "tf.logging.set_verbosity(tf.logging.INFO)\n",
    "\n",
    "train_examples = create_examples(train_df)\n",
    "eval_examples = create_examples(dev_df)\n",
    "\n",
    "eval_steps = None\n",
    "\n",
    "train_and_evaluate(train_examples, eval_examples, max_seq_length, estimator, tokenizer, batch_size, eval_steps,\n",
    "                   num_train_steps, output_dir, num_labels=NUM_LABELS)"
   ]
  },
  {
   "cell_type": "markdown",
   "metadata": {},
   "source": [
    "### Predicting class probabilities\n",
    "The resulting file with test labels is saved at \"output_dir/predicted_proba_filename\" (path parameters are initialized at \"Parameters\" section). "
   ]
  },
  {
   "cell_type": "markdown",
   "metadata": {},
   "source": [
    "#### Defining documents to predict labels for manually"
   ]
  },
  {
   "cell_type": "code",
   "execution_count": null,
   "metadata": {},
   "outputs": [],
   "source": [
    "strings = ['This is some string',\n",
    "       'This is another string']\n",
    "test_df = pd.DataFrame(strings, columns =[text_column_name], )"
   ]
  },
  {
   "cell_type": "markdown",
   "metadata": {},
   "source": [
    "#### Loading test set from csv file"
   ]
  },
  {
   "cell_type": "code",
   "execution_count": null,
   "metadata": {},
   "outputs": [],
   "source": [
    "# Change path if needed\n",
    "test_df = pd.read_csv(os.path.join(corpus_dir, \"test.csv\"), encoding=\"utf-8\")"
   ]
  },
  {
   "cell_type": "code",
   "execution_count": null,
   "metadata": {},
   "outputs": [],
   "source": [
    "output_df = predict(test_df, estimator, tokenizer, max_seq_length, num_labels=NUM_LABELS)\n",
    "\n",
    "resulting_df = test_df[text_column_name]\n",
    "resulting_df = pd.concat([test_df, output_df], axis=1)\n",
    "resulting_df.to_csv(os.path.join(output_dir, predicted_proba_filename), index=False)\n",
    "\n",
    "resulting_df.head()"
   ]
  }
 ],
 "metadata": {
  "kernelspec": {
   "display_name": "Python 3",
   "language": "python",
   "name": "python3"
  },
  "language_info": {
   "codemirror_mode": {
    "name": "ipython",
    "version": 3
   },
   "file_extension": ".py",
   "mimetype": "text/x-python",
   "name": "python",
   "nbconvert_exporter": "python",
   "pygments_lexer": "ipython3",
   "version": "3.7.3"
  }
 },
 "nbformat": 4,
 "nbformat_minor": 2
}
